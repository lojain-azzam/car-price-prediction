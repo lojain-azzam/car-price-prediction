{
 "cells": [
  {
   "cell_type": "markdown",
   "id": "5fef279d",
   "metadata": {},
   "source": [
    "## Step1 : Extracting data from the text files."
   ]
  },
  {
   "cell_type": "code",
   "execution_count": 84,
   "id": "156e74f0",
   "metadata": {},
   "outputs": [],
   "source": [
    "import warnings\n",
    "from bs4 import BeautifulSoup\n",
    "from pathlib import Path\n",
    "import pandas as pd\n",
    "import re\n",
    "warnings.simplefilter(action='ignore', category=FutureWarning)"
   ]
  },
  {
   "cell_type": "code",
   "execution_count": 85,
   "id": "ec8f22ce",
   "metadata": {},
   "outputs": [],
   "source": [
    "### Create the necessary dataframes for extracting features\n",
    "\n",
    "def initialize_df():\n",
    "\n",
    "    global features, maping_description, maping_additional\n",
    "\n",
    "    features = {\n",
    "        'name': None,\n",
    "        'model': None,\n",
    "        'price': None,\n",
    "        'color': None,\n",
    "        'fuel_type': None,\n",
    "        'origin_car': None,\n",
    "        'car_license': None,\n",
    "        'lime_type': None,\n",
    "        'glass': None,\n",
    "        'motor_power': None,\n",
    "        'car_speedometer': None,\n",
    "        'passengers': None,\n",
    "        'ex_owners': None,\n",
    "        'alarm_devise':None,\n",
    "        'air_conditioner':None,\n",
    "        'CD_recorder':None,\n",
    "        'sunroof':None,\n",
    "        'leather_upholstery':None,\n",
    "        'central_closing':None,\n",
    "        'magnesium_rims':None,\n",
    "        'air_cushion':None,\n",
    "        }\n",
    "    maping_description = {\n",
    "        \"لون السيارة\": 'color',\n",
    "        \"نوع الوقود\": 'fuel_type',\n",
    "        \"أصل السيارة\": 'origin_car',\n",
    "        \"عداد السيارة\": 'car_speedometer',\n",
    "        \"أصحاب سابقون\": 'ex_owners',\n",
    "        \"رخصة السيارة\": 'car_license',\n",
    "        \"نوع الجير\": 'lime_type',\n",
    "        \"الزجاج\": 'glass',\n",
    "        \"قوة الماتور\": 'motor_power',\n",
    "        \"عدد الركاب\": 'passengers',\n",
    "    }\n",
    "    maping_additional={\n",
    "        'جهاز إنذار': 'alarm_devise',\n",
    "        'مُكيّف': 'air_conditioner',\n",
    "        'مسجل CD': 'CD_recorder',\n",
    "        'فتحة سقف': 'sunroof',\n",
    "        'فرش جلد': 'leather_upholstery',\n",
    "        'إغلاق مركزي': 'central_closing',\n",
    "        'جنطات مغنيسيوم': 'magnesium_rims',\n",
    "        'وسادة حماية هوائية': 'air_cushion',\n",
    "    }"
   ]
  },
  {
   "cell_type": "code",
   "execution_count": 86,
   "id": "5c08d4c7",
   "metadata": {},
   "outputs": [],
   "source": [
    "### Extracting model year features from file to features dictionary.\n",
    "\n",
    "\n",
    "def get_model(model_element):\n",
    "\n",
    "    for row in model_element:\n",
    "        subitem = str(row.text).split()\n",
    "        for item in subitem:\n",
    "            if(item.isdigit()):\n",
    "                features['model'] = item\n",
    "                break"
   ]
  },
  {
   "cell_type": "code",
   "execution_count": 87,
   "id": "0a57dd64",
   "metadata": {},
   "outputs": [],
   "source": [
    "### Extracting price feature from file to features dictionary.\n",
    "\n",
    "\n",
    "def get_price(price_element):\n",
    "    if price_element:\n",
    "        price = str(price_element.text)\n",
    "        for subitem in price.split():\n",
    "            if subitem.isdigit():\n",
    "                return int(subitem)\n",
    "    return None \n"
   ]
  },
  {
   "cell_type": "code",
   "execution_count": 88,
   "id": "be14cf4f",
   "metadata": {},
   "outputs": [],
   "source": [
    "### Extracting description features from file to features dictionary.\n",
    "\n",
    "def get_description(description_element):\n",
    "    if description_element:\n",
    "        with warnings.catch_warnings():\n",
    "            warnings.simplefilter(\"ignore\", category=DeprecationWarning)\n",
    "            for arabic_feature in maping_description.keys():\n",
    "                description = description_element.find(string=arabic_feature)\n",
    "                features[maping_description[arabic_feature]] = (\n",
    "                    None if description is None else description.next_element.get_text()\n",
    "                )\n",
    "        \n",
    "        "
   ]
  },
  {
   "cell_type": "code",
   "execution_count": 89,
   "id": "7c7dfc57",
   "metadata": {},
   "outputs": [],
   "source": [
    "def get_additional_info(additional_element):\n",
    "    for row in additional_element:\n",
    "        row = row.text\n",
    "        if row in maping_additional.keys():\n",
    "            features[maping_additional[row]] = 1"
   ]
  },
  {
   "cell_type": "code",
   "execution_count": null,
   "id": "b5835fd8",
   "metadata": {},
   "outputs": [],
   "source": [
    "# Create dataframe to add the data collected\n",
    "data = pd.DataFrame()\n",
    "\n",
    "for path in Path('data/').glob('*.txt'):\n",
    "    initialize_df()\n",
    "    with path.open(encoding='utf-8') as file_path:\n",
    "        # create BeautifulSoup object for file by html parser\n",
    "        soup = BeautifulSoup(file_path, \"html.parser\")\n",
    "\n",
    "        # Extracting name value to features dictionary\n",
    "        features['name'] = soup.find('h3', class_=None).text\n",
    "\n",
    "        # Extracting model value to features dictionary\n",
    "        get_model(soup.find('h5', class_=None))\n",
    "\n",
    "        # Extracting price value to features dictionary\n",
    "        get_price(soup.find('h5', class_='post-price'))\n",
    "\n",
    "        # Extracting description values to features dictionary\n",
    "        get_description(soup.find('table', class_='list_ads'))\n",
    "\n",
    "        \n",
    "        # Extracting additional values to features dictionary\n",
    "        get_additional_info(soup.find('td', class_='list-additions').find_all('li'))\n",
    "       \n",
    "        \n",
    "        # Convert the dictionary to series\n",
    "        sample = pd.Series(features)\n",
    "\n",
    "        # Concating the sample series to the dataframe\n",
    "        data = pd.concat((data, sample), axis=1, ignore_index=True)"
   ]
  },
  {
   "cell_type": "code",
   "execution_count": null,
   "id": "d9b63d55",
   "metadata": {},
   "outputs": [],
   "source": [
    "data = data.T\n",
    "data"
   ]
  },
  {
   "cell_type": "code",
   "execution_count": 72,
   "id": "9a14f4d4",
   "metadata": {},
   "outputs": [],
   "source": [
    "data.to_csv('data/data.csv')"
   ]
  },
  {
   "cell_type": "code",
   "execution_count": null,
   "id": "e9d2b595",
   "metadata": {},
   "outputs": [],
   "source": []
  },
  {
   "cell_type": "code",
   "execution_count": null,
   "id": "ba0722e1",
   "metadata": {},
   "outputs": [],
   "source": []
  }
 ],
 "metadata": {
  "kernelspec": {
   "display_name": "Python 3 (ipykernel)",
   "language": "python",
   "name": "python3"
  },
  "language_info": {
   "codemirror_mode": {
    "name": "ipython",
    "version": 3
   },
   "file_extension": ".py",
   "mimetype": "text/x-python",
   "name": "python",
   "nbconvert_exporter": "python",
   "pygments_lexer": "ipython3",
   "version": "3.11.5"
  }
 },
 "nbformat": 4,
 "nbformat_minor": 5
}
