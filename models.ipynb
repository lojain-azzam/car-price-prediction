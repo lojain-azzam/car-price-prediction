{
 "cells": [
  {
   "cell_type": "code",
   "execution_count": 71,
   "id": "62f4ebb0",
   "metadata": {},
   "outputs": [],
   "source": [
    "import pandas as pd\n",
    "import numpy as np\n",
    "from sklearn.preprocessing import PolynomialFeatures\n",
    "from sklearn.linear_model import LinearRegression\n",
    "from sklearn.linear_model import Ridge\n",
    "from sklearn.linear_model import Lasso\n",
    "from sklearn.neighbors import KNeighborsRegressor\n",
    "from sklearn.tree import DecisionTreeRegressor\n",
    "from sklearn.model_selection import train_test_split\n",
    "from sklearn.metrics import mean_squared_error  #for test not use it \n",
    "\n",
    "from sklearn.metrics import r2_score\n",
    "import pickle\n",
    "from typing import Union"
   ]
  },
  {
   "cell_type": "code",
   "execution_count": 72,
   "id": "32fecd01",
   "metadata": {},
   "outputs": [],
   "source": [
    "# Load data after preprocessing\n",
    "data = pd.read_csv('data/data_ready.csv')"
   ]
  },
  {
   "cell_type": "markdown",
   "id": "c4f5aa5f",
   "metadata": {},
   "source": [
    "    Create polynomial model with given degree on the features and target.\n",
    "    Using PolynomialFeatures() to generate polynomial included interaction features only.\n",
    "    it can fit the model on the new features from PolynomialFeatures() generated.\n",
    "    and predict target data by the new features from PolynomialFeatures() generated.\n",
    "\n"
   ]
  },
  {
   "cell_type": "code",
   "execution_count": 73,
   "id": "eb7a6332",
   "metadata": {},
   "outputs": [],
   "source": [
    "def polynomial_model(model,\n",
    "                    degree:int|tuple[int, int], \n",
    "                    X:pd.DataFrame,\n",
    "                    y:list,\n",
    "                    train_model = True,\n",
    "                    predict_model = False\n",
    "                    ) -> Union[None,np.array]:\n",
    "\n",
    "    poly = PolynomialFeatures(degree, interaction_only=True)\n",
    "    poly.fit(X)\n",
    "    new_features = poly.transform(X)\n",
    "    \n",
    "    if train_model:\n",
    "        model.fit(new_features, y)\n",
    "    \n",
    "    if predict_model:\n",
    "        predict_data = model.predict(new_features) \n",
    "        return predict_data"
   ]
  },
  {
   "cell_type": "markdown",
   "id": "b48287d1",
   "metadata": {},
   "source": [
    "    Training all models in the dictionary on the features and target variable.\n",
    "    Keeping in view the degree number.\n"
   ]
  },
  {
   "cell_type": "code",
   "execution_count": 74,
   "id": "314ec3a5",
   "metadata": {},
   "outputs": [],
   "source": [
    "def train_models(models:dict,\n",
    "                X_train:pd.DataFrame, \n",
    "                y_train:list) -> dict:\n",
    "\n",
    "    for model_id in models:\n",
    "        degree = models[model_id].get('degree') if models[model_id].get('degree') else None\n",
    "        \n",
    "        polynomial_model(model=models[model_id]['model'],\n",
    "                            degree=degree,\n",
    "                            X=X_train,\n",
    "                            y=y_train) if degree else models[model_id]['model'].fit(X_train, y_train)\n",
    "\n",
    "        print('Trained -> ', models[model_id])\n",
    "\n",
    "    return models"
   ]
  },
  {
   "cell_type": "code",
   "execution_count": 75,
   "id": "20ef5d09",
   "metadata": {},
   "outputs": [],
   "source": [
    "def evaluation_models(models:dict,\n",
    "                      X:pd.DataFrame, \n",
    "                      y:list,\n",
    "                      train:bool = False) -> dict:\n",
    "\n",
    "    for model_id in models:\n",
    "        degree = models[model_id].get('degree') if models[model_id].get('degree') else None\n",
    "        \n",
    "        y_predict = polynomial_model(model = models[model_id]['model'],\n",
    "                                    X=X,\n",
    "                                    y=y,\n",
    "                                    degree=degree,\n",
    "                                    train_model=False,\n",
    "                                    predict_model=True\n",
    "                                    ) if degree else models[model_id]['model'].predict(X)\n",
    "\n",
    "        score = r2_score(y_predict, y)\n",
    "        \n",
    "        if train:\n",
    "            models[model_id][\"Train_Score\"] = score\n",
    "        else:\n",
    "            models[model_id][\"Test_Score\"] = score\n",
    "    \n",
    "    return models"
   ]
  },
  {
   "cell_type": "code",
   "execution_count": 76,
   "id": "092bca6e",
   "metadata": {},
   "outputs": [],
   "source": [
    "# Select All features exclude target feature\n",
    "X = data[data.drop('price', axis=1).columns]\n",
    "y = data['price']\n",
    "\n",
    "# Spliting data to training and testing datasets\n",
    "X_train, X_test, y_train, y_test = train_test_split(X, y, test_size=0.30, random_state=42)"
   ]
  },
  {
   "cell_type": "code",
   "execution_count": 77,
   "id": "c15125ed",
   "metadata": {},
   "outputs": [],
   "source": [
    "# Dictionary contains all models we want to create\n",
    "models = {\n",
    "        'linear': {'model': LinearRegression()},\n",
    "        'ploy_2': {'model': LinearRegression(), 'degree' : 2},\n",
    "        'ploy_3': {'model': LinearRegression(), 'degree' : 3},\n",
    "        'knn'   : {'model': KNeighborsRegressor(n_neighbors=3)},\n",
    "        'D_tree': {'model': DecisionTreeRegressor(random_state=0)}\n",
    "        }"
   ]
  },
  {
   "cell_type": "code",
   "execution_count": 78,
   "id": "149cdca5",
   "metadata": {},
   "outputs": [
    {
     "name": "stdout",
     "output_type": "stream",
     "text": [
      "Trained ->  {'model': LinearRegression()}\n",
      "Trained ->  {'model': LinearRegression(), 'degree': 2}\n",
      "Trained ->  {'model': LinearRegression(), 'degree': 3}\n",
      "Trained ->  {'model': KNeighborsRegressor(n_neighbors=3)}\n",
      "Trained ->  {'model': DecisionTreeRegressor(random_state=0)}\n"
     ]
    }
   ],
   "source": [
    "# Training models\n",
    "models = train_models(models, X_train, y_train)"
   ]
  },
  {
   "cell_type": "code",
   "execution_count": 79,
   "id": "960398b0",
   "metadata": {},
   "outputs": [],
   "source": [
    "# Evaluation models on test dataset by score r^2 metric\n",
    "models = evaluation_models(models, X_test, y_test)"
   ]
  },
  {
   "cell_type": "code",
   "execution_count": 80,
   "id": "0d0ea7e4",
   "metadata": {},
   "outputs": [],
   "source": [
    "# Evaluation models on train dataset by score r^2 metric\n",
    "models = evaluation_models(models, X_train, y_train, train=True)"
   ]
  },
  {
   "cell_type": "code",
   "execution_count": 81,
   "id": "c8114d08",
   "metadata": {},
   "outputs": [
    {
     "name": "stdout",
     "output_type": "stream",
     "text": [
      "Train Score for  linear  :  60.33948563538966\n",
      "Test Score for  linear  :  54.780913569779386\n",
      "\n",
      "Train Score for  ploy_2  :  88.89576893130324\n",
      "Test Score for  ploy_2  :  0.5936241485962057\n",
      "\n",
      "Train Score for  ploy_3  :  99.49023371763224\n",
      "Test Score for  ploy_3  :  -0.054120905492904825\n",
      "\n",
      "Train Score for  knn  :  21.900187077445477\n",
      "Test Score for  knn  :  -96.57201428681459\n",
      "\n",
      "Train Score for  D_tree  :  100.0\n",
      "Test Score for  D_tree  :  60.978668550175556\n",
      "\n"
     ]
    }
   ],
   "source": [
    "# Display score value on the test dataset for each model \n",
    "for model in models.keys():\n",
    "    print('Train Score for ', model,' : ', models[model]['Train_Score']*100)\n",
    "    print('Test Score for ', model,' : ', models[model]['Test_Score']*100, end='\\n\\n')"
   ]
  },
  {
   "cell_type": "code",
   "execution_count": 82,
   "id": "a37d434d",
   "metadata": {},
   "outputs": [],
   "source": [
    "# Pickle best model to use it\n",
    "pickle.dump(models['D_tree']['model'], open('./pkls/model.pkl', 'wb'))"
   ]
  },
  {
   "cell_type": "code",
   "execution_count": 83,
   "id": "2b9ff7e1",
   "metadata": {},
   "outputs": [],
   "source": [
    "# Pickle polynomial model to use it\n",
    "poly = PolynomialFeatures(2, interaction_only=True)\n",
    "poly.fit(X_train)\n",
    "pickle.dump(poly, open('./pkls/polynomial_features.pkl', 'wb'))"
   ]
  },
  {
   "cell_type": "code",
   "execution_count": 84,
   "id": "a2f87a94",
   "metadata": {},
   "outputs": [],
   "source": [
    "models_metadata = {}\n",
    "\n",
    "models_metadata = models\n",
    "\n",
    "models_metadata['Test Size'] = 0.3\n",
    "models_metadata['Metric Evaluation'] = 'r^2 score'\n",
    "models_metadata['Data Shape Used'] = data.shape"
   ]
  },
  {
   "cell_type": "code",
   "execution_count": 85,
   "id": "524d1b16",
   "metadata": {},
   "outputs": [],
   "source": [
    "with open(\"./metadata/models_metadata.txt\", 'w') as f: \n",
    "    for key, value in models_metadata.items(): \n",
    "        f.write('%s:%s\\n' % (key, value))"
   ]
  },
  {
   "cell_type": "code",
   "execution_count": null,
   "id": "5c96ad7a",
   "metadata": {},
   "outputs": [],
   "source": []
  }
 ],
 "metadata": {
  "kernelspec": {
   "display_name": "Python 3 (ipykernel)",
   "language": "python",
   "name": "python3"
  },
  "language_info": {
   "codemirror_mode": {
    "name": "ipython",
    "version": 3
   },
   "file_extension": ".py",
   "mimetype": "text/x-python",
   "name": "python",
   "nbconvert_exporter": "python",
   "pygments_lexer": "ipython3",
   "version": "3.11.5"
  }
 },
 "nbformat": 4,
 "nbformat_minor": 5
}
